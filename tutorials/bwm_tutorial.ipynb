{
 "cells": [
  {
   "cell_type": "code",
   "execution_count": 5,
   "metadata": {},
   "outputs": [
    {
     "name": "stderr",
     "output_type": "stream",
     "text": [
      "\u001b[32m\u001b[1m  Activating\u001b[22m\u001b[39m project at `~/inverseDesign`\n"
     ]
    }
   ],
   "source": [
    "using Pkg\n",
    "Pkg.activate(\"./\")\n",
    "# Pkg.instantiate()"
   ]
  },
  {
   "cell_type": "code",
   "execution_count": 6,
   "metadata": {},
   "outputs": [],
   "source": [
    "using GLMakie \n",
    "using StaticArrays: SVector\n",
    "using LinearAlgebra\n",
    "using LinearSolve\n",
    "using Meshes\n",
    "using BenchmarkTools"
   ]
  },
  {
   "cell_type": "code",
   "execution_count": 9,
   "metadata": {},
   "outputs": [
    {
     "name": "stderr",
     "output_type": "stream",
     "text": [
      "WARNING: replacing module GeometryUtils.\n",
      "┌ Warning: Replacing docs for `Main.GeometryUtils.buildAsymmetricResonator :: Tuple{Float64, Float64}` in module `Main.GeometryUtils`\n",
      "└ @ Base.Docs docs/Docs.jl:243\n",
      "WARNING: replacing module BoundaryWall.\n"
     ]
    },
    {
     "data": {
      "text/plain": [
       "divideMeshBoundary"
      ]
     },
     "metadata": {},
     "output_type": "display_data"
    }
   ],
   "source": [
    "include(\"./src/GeometryUtils.jl\")\n",
    "include(\"./src/BoundaryWall.jl\")"
   ]
  },
  {
   "cell_type": "code",
   "execution_count": 10,
   "metadata": {},
   "outputs": [
    {
     "data": {
      "text/plain": [
       "2-element SVector{2, Float64} with indices SOneTo(2):\n",
       "  0.0\n",
       " -7.0834907"
      ]
     },
     "metadata": {},
     "output_type": "display_data"
    }
   ],
   "source": [
    "HBAR = 1.0\n",
    "MASS = HBAR/2\n",
    "SIGMA= (2*MASS/HBAR^2)*(1/4*im)\n",
    "N    = 400\n",
    "NDOM = 150\n",
    "ϕ    = -90\n",
    "K    = 7.0834907*SVector(cosd(ϕ), sind(ϕ))"
   ]
  },
  {
   "cell_type": "code",
   "execution_count": 56,
   "metadata": {},
   "outputs": [
    {
     "data": {
      "text/plain": [
       "400-element LinRange{Float64, Int64}:\n",
       " -3.14159, -3.12585, -3.1101, -3.09435, …, 3.09435, 3.1101, 3.12585, 3.14159"
      ]
     },
     "metadata": {},
     "output_type": "display_data"
    }
   ],
   "source": [
    "f(t::Float64) = (1+sin(5t)) .* (cos(t), sin(t))\n",
    "g(t::Float64, a::Float64) = (a+sin(5*t - pi/4)) .* (cos(t), sin(t))\n",
    "θ = LinRange(-pi, pi, N)\n"
   ]
  },
  {
   "cell_type": "markdown",
   "metadata": {},
   "source": [
    "Create boundary"
   ]
  },
  {
   "cell_type": "code",
   "execution_count": 57,
   "metadata": {},
   "outputs": [],
   "source": [
    "z = g.(θ,2.0)\n",
    "x, y            = first.(z), last.(z)\n",
    "x, y            = GeometryUtils.divideCurve(x, y, N)\n",
    "xm, ym          = GeometryUtils.calcMidpoints(x,y)\n",
    "arc_lengths     = GeometryUtils.calcArcLength(x,y)\n",
    "distance_matrix = GeometryUtils.calcDistances(xm,ym)\n",
    ";\n"
   ]
  },
  {
   "cell_type": "markdown",
   "metadata": {},
   "source": [
    "Define a domain"
   ]
  },
  {
   "cell_type": "code",
   "execution_count": 58,
   "metadata": {},
   "outputs": [],
   "source": [
    "xdom = LinRange(-6,6, NDOM)\n",
    "ydom = LinRange(-6,6, NDOM)\n",
    "GRID = RectilinearGrid(xdom, ydom)\n",
    "MESH = SimpleMesh(vertices(GRID), GRID.topology)\n",
    "COORDS = coordinates.(vertices(MESH))\n",
    "\n",
    "XDOM, YDOM = first.(COORDS), last.(COORDS)\n",
    ";"
   ]
  },
  {
   "cell_type": "markdown",
   "metadata": {},
   "source": [
    "Perform BWM"
   ]
  },
  {
   "cell_type": "code",
   "execution_count": 59,
   "metadata": {},
   "outputs": [],
   "source": [
    "wave1 = BoundaryWall.boundaryWallWave(K, \n",
    "                                      xm, \n",
    "                                      ym,\n",
    "                                      XDOM,\n",
    "                                      YDOM,\n",
    "                                      SIGMA,\n",
    "                                      distance_matrix,\n",
    "                                      arc_lengths,\n",
    "                                      length(arc_lengths),\n",
    "                                      diagind(size(distance_matrix)...))\n",
    ";\n"
   ]
  },
  {
   "cell_type": "code",
   "execution_count": 60,
   "metadata": {},
   "outputs": [],
   "source": [
    "let \n",
    "  fig = Figure()\n",
    "  ax = [Axis(fig[1,j],xtickalign=1,ytickalign=1,xticksmirrored=1,yticksmirrored=1,xgridvisible=false, ygridvisible=false) for j in 1:2]\n",
    "  # heatmap!(ax, xdom[:], ydom[:], real(wave), colormap=:dense)\n",
    "  # scatter!(ax, XDOM, YDOM, color=real)\n",
    "  viz!(ax[1], MESH, color=abs2.(wave1), colorscheme=:dense)\n",
    "  viz!(ax[2], MESH, color=angle.(wave1), colorscheme=:twilight)\n",
    "  \n",
    "  [ax.xticks=minimum(XDOM):2.0:maximum(XDOM) for ax in ax]\n",
    "  [ax.yticks=minimum(YDOM):2.0:maximum(YDOM) for ax in ax]\n",
    "\n",
    "  [lines!(ax, x, y, color=:black) for ax in ax]\n",
    "  [ax.aspect=DataAspect() for ax in ax]\n",
    "  fig\n",
    "end"
   ]
  }
 ],
 "metadata": {
  "kernelspec": {
   "display_name": "Julia 1.10.1",
   "language": "julia",
   "name": "julia-1.10"
  },
  "language_info": {
   "file_extension": ".jl",
   "mimetype": "application/julia",
   "name": "julia",
   "version": "1.10.1"
  }
 },
 "nbformat": 4,
 "nbformat_minor": 2
}
